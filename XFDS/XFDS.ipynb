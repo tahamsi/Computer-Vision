{
 "cells": [
  {
   "cell_type": "code",
   "execution_count": 1,
   "metadata": {},
   "outputs": [],
   "source": [
    "# Import required libraries\n",
    "import numpy as np\n",
    "import pandas as pd\n",
    "import matplotlib.pyplot as plt\n",
    "from sklearn.preprocessing import StandardScaler\n",
    "from sklearn.metrics import confusion_matrix\n",
    "from tensorflow.keras.optimizers import Adam\n",
    "import time\n",
    "# Import use defined libraries\n",
    "import dataUtils\n",
    "import Model\n",
    "import Interpretation\n"
   ]
  },
  {
   "cell_type": "code",
   "execution_count": 2,
   "metadata": {},
   "outputs": [],
   "source": [
    "# Load Data\n",
    "outputColumn = ['DatasetNameTrain','DatasetNameTest','Accuracy','Cost', 'ModelCreateRuntime','PositiveDesc','PositiveRuntime' , 'NegativeDesc','NegativeRuntime']\n",
    "output = pd.DataFrame(columns=outputColumn)\n",
    "datasetTrain, x_train_for_feature,datasetTest,x_test_for_feature = dataUtils.load_data('base_desenv_02.csv','base_validacao_02.csv')\n",
    "X_train,y_train,X_test,y_test = dataUtils.preprocessing(datasetTrain,datasetTest)"
   ]
  },
  {
   "cell_type": "code",
   "execution_count": 3,
   "metadata": {},
   "outputs": [],
   "source": [
    "# Load Models\n",
    "input=X_train.shape[1]\n",
    "base, mid_base=Model.create_base_model(input)\n",
    "base.compile(loss='binary_crossentropy', optimizer=Adam(0.01), metrics=['acc'])\n",
    "discriminator = Model.create_discriminator_model(input)\n",
    "discriminator.compile(loss='binary_crossentropy', optimizer=Adam(0.01), metrics=['acc'])\n",
    "generator= Model.create_generator(input, input)\n",
    "generator.compile(loss=Model.my_loss, optimizer=Adam(0.001))"
   ]
  },
  {
   "cell_type": "code",
   "execution_count": 4,
   "metadata": {},
   "outputs": [
    {
     "name": "stdout",
     "output_type": "stream",
     "text": [
      "Epoch 1/12\n",
      "455/455 [==============================] - 2s 3ms/step - loss: 0.0724 - acc: 0.9756 - val_loss: 1.5023e-06 - val_acc: 1.0000\n",
      "Epoch 2/12\n",
      "455/455 [==============================] - 1s 2ms/step - loss: 8.7026e-07 - acc: 1.0000 - val_loss: 2.0014e-06 - val_acc: 1.0000\n",
      "Epoch 3/12\n",
      "455/455 [==============================] - 1s 2ms/step - loss: 1.0816e-06 - acc: 1.0000 - val_loss: 2.1401e-08 - val_acc: 1.0000\n",
      "Epoch 4/12\n",
      "455/455 [==============================] - 1s 2ms/step - loss: 2.7312e-08 - acc: 1.0000 - val_loss: 1.4357e-08 - val_acc: 1.0000\n",
      "Epoch 5/12\n",
      "455/455 [==============================] - 1s 2ms/step - loss: 2.3735e-08 - acc: 1.0000 - val_loss: 9.5497e-09 - val_acc: 1.0000\n",
      "Epoch 6/12\n",
      "455/455 [==============================] - 1s 2ms/step - loss: 1.3777e-08 - acc: 1.0000 - val_loss: 6.8777e-09 - val_acc: 1.0000\n",
      "Epoch 7/12\n",
      "455/455 [==============================] - 1s 2ms/step - loss: 1.0009e-08 - acc: 1.0000 - val_loss: 4.8343e-09 - val_acc: 1.0000\n",
      "Epoch 8/12\n",
      "455/455 [==============================] - 1s 2ms/step - loss: 8.0893e-09 - acc: 1.0000 - val_loss: 3.5698e-09 - val_acc: 1.0000\n",
      "Epoch 9/12\n",
      "455/455 [==============================] - 1s 2ms/step - loss: 7.8544e-09 - acc: 1.0000 - val_loss: 2.6412e-09 - val_acc: 1.0000\n",
      "Epoch 10/12\n",
      "455/455 [==============================] - 1s 2ms/step - loss: 4.9992e-09 - acc: 1.0000 - val_loss: 1.9991e-09 - val_acc: 1.0000\n",
      "Epoch 11/12\n",
      "455/455 [==============================] - 1s 2ms/step - loss: 2.2700e-09 - acc: 1.0000 - val_loss: 1.5320e-09 - val_acc: 1.0000\n",
      "Epoch 12/12\n",
      "455/455 [==============================] - 1s 2ms/step - loss: 2.7045e-09 - acc: 1.0000 - val_loss: 1.1921e-09 - val_acc: 1.0000\n",
      "Epoch: 0, d_loss (Acc)): 0.0625, g_loss: 7.7714\n",
      "Epoch: 1, d_loss (Acc)): 1.0, g_loss: 9.7043\n",
      "All models are saved!!!\n",
      "INFO:tensorflow:Assets written to: generator.ml\\assets\n",
      "INFO:tensorflow:Assets written to: discriminator.ml\\assets\n",
      "INFO:tensorflow:Assets written to: base.ml\\assets\n",
      "End of training!!!\n"
     ]
    }
   ],
   "source": [
    "# Train models\n",
    "model_save=True\n",
    "model_load=False\n",
    "start_time_fitModel = time.time()\n",
    "if model_load:\n",
    "    generator = keras.models.load_model('generator.ml')\n",
    "    discriminator = keras.models.load_model('discriminator.ml')\n",
    "    base = keras.models.load_model('base.ml')\n",
    "else:\n",
    "    v_loss = base.fit(X_train, y_train, batch_size = 64,validation_data=(X_test, y_test), epochs=12)\n",
    "    generator,discriminator,base=Model.train(X_train,y_train, 64, generator,discriminator,base,100,model_save)\n",
    "end_time_fitModel = time.time()"
   ]
  },
  {
   "cell_type": "code",
   "execution_count": 5,
   "metadata": {},
   "outputs": [
    {
     "name": "stdout",
     "output_type": "stream",
     "text": [
      "[[12076     0]\n",
      " [    0   467]]\n",
      "Cost is:  12076\n"
     ]
    }
   ],
   "source": [
    "# Validation\n",
    "y_pred = base.predict(X_test)\n",
    "y_pred = (y_pred > 0.5)\n",
    "cm = confusion_matrix(y_test, y_pred)\n",
    "print(cm)\n",
    "acc=(cm[0][0]+cm[1][1])/len(y_pred)\n",
    "cost=cm[0][0]+100*cm[0][1]+10*cm[1][0]\n",
    "print(\"Cost is: \",cost)"
   ]
  },
  {
   "cell_type": "code",
   "execution_count": 6,
   "metadata": {},
   "outputs": [],
   "source": [
    "# Interpretation\n",
    "y_med = base.predict(X_train)\n",
    "y_med=(y_med > 0.5).reshape(-1)\n",
    "X_Fraud = x_train_for_feature[y_med==1]\n",
    "X_Normal = x_train_for_feature[y_med==0]\n",
    "output_lastLayer=mid_base(X_train).numpy()\n",
    "X_fraud_feature = output_lastLayer[y_train==1]\n",
    "X_normal_feature = output_lastLayer[y_train==0]\n",
    "Cluster_Fraud = Interpretation.create_clusters(30,X_fraud_feature, X_Fraud)\n",
    "Cluster_Normal = Interpretation.create_clusters(30,X_normal_feature, X_Normal)\n",
    "y_pred = base.predict(X_test)\n",
    "y_pred = (y_pred > 0.5)\n",
    "output_layer_new = mid_base(X_test).numpy()\n",
    "participating_features = generator(X_test)\n",
    "participating_features = np.round(participating_features)\n",
    "_1_y_test_idx = Interpretation.getRandIndex(y_test,1)\n",
    "_0_y_test_idx = Interpretation.getRandIndex(y_test,0)\n",
    "PositiveDescValue , PositiveRuntimeValue = Interpretation.describeInstance(_1_y_test_idx,y_pred,y_test,output_layer_new,participating_features,Cluster_Fraud,Cluster_Normal,x_test_for_feature)\n",
    "NegativeDescValue , NegativeRuntimeValue = Interpretation.describeInstance(_0_y_test_idx,y_pred,y_test,output_layer_new,participating_features,Cluster_Fraud,Cluster_Normal,x_test_for_feature)\n",
    "new_row = {'DatasetNameTrain':'base_desenv_02.csv','DatasetNameTest':'base_validacao_02.csv','Accuracy':acc, 'Cost':cost, 'ModelCreateRuntime':(end_time_fitModel - start_time_fitModel) ,'PositiveDesc':PositiveDescValue,'PositiveRuntime':PositiveRuntimeValue , 'NegativeDesc':NegativeDescValue,'NegativeRuntime':NegativeRuntimeValue}\n",
    "output = output.append(new_row, ignore_index=True)"
   ]
  },
  {
   "cell_type": "code",
   "execution_count": 7,
   "metadata": {},
   "outputs": [
    {
     "name": "stdout",
     "output_type": "stream",
     "text": [
      "_________________________________________PositiveDesc_________________\n",
      "\n",
      "The model classified this transaction as positive.\n",
      "While its true class was positive.\n",
      "The model has made this decision, because the original patern:\n",
      "[6 0 2 0 9 1 9 6 5 3 0 1 0 1 2 3 0]\n",
      "Is mostly similar to the following: \n",
      "[6 9 2 2 8 9 9 6 5 3 2 1 0 1 5 4 0]\n",
      "Which is a dominant pattern of the class positive.\n",
      "On the other hand, these two pattern have 10 similar points as follow:\n",
      "6 == 6\n",
      "9 != 0\n",
      "2 == 2\n",
      "2 != 0\n",
      "8 != 9\n",
      "9 != 1\n",
      "9 == 9\n",
      "6 == 6\n",
      "5 == 5\n",
      "3 == 3\n",
      "2 != 0\n",
      "1 == 1\n",
      "0 == 0\n",
      "1 == 1\n",
      "5 != 2\n",
      "4 != 3\n",
      "0 == 0\n",
      "the most participating features are as follow: [1. 1. 1. 0. 1. 0. 1. 1. 1. 0. 0. 0. 1. 0. 0. 0. 1. 1. 1. 1. 1. 0. 0. 0.\n",
      " 0. 0. 0. 0. 0. 0. 1. 0. 1. 1. 0. 1. 0. 0. 1. 0. 1. 1. 0. 0. 0. 0. 0. 1.\n",
      " 1. 0. 0. 0. 1. 0. 0. 1. 0. 1. 1. 0. 0. 0. 1. 0. 0. 1. 0. 1. 1. 1. 1. 0.\n",
      " 0. 1. 0. 0. 1. 0. 1. 1. 0. 0. 1. 0. 0. 0. 0. 0. 0. 0. 0. 0. 0. 1. 0. 0.\n",
      " 0. 0. 1. 0. 0.]\n",
      "_________________________________________NegativeDesc_________________\n",
      "\n",
      "The model classified this transaction as negative.\n",
      "While its true class was negative.\n",
      "The model has made this decision, because the original patern:\n",
      "[7 9 2 8 1 9 1 6 1 2 0 1 0 1 5 1 0]\n",
      "Is mostly similar to the following: \n",
      "[1 0 3 0 2 1 2 8 1 3 0 1 0 1 2 3 0]\n",
      "Which is a dominant pattern of the class negative.\n",
      "On the other hand, these two pattern have 6 similar points as follow:\n",
      "1 != 7\n",
      "0 != 9\n",
      "3 != 2\n",
      "0 != 8\n",
      "2 != 1\n",
      "1 != 9\n",
      "2 != 1\n",
      "8 != 6\n",
      "1 == 1\n",
      "3 != 2\n",
      "0 == 0\n",
      "1 == 1\n",
      "0 == 0\n",
      "1 == 1\n",
      "2 != 5\n",
      "3 != 1\n",
      "0 == 0\n",
      "the most participating features are as follow: [1. 0. 1. 0. 1. 0. 1. 1. 0. 0. 0. 0. 1. 0. 0. 0. 0. 0. 1. 1. 1. 0. 0. 0.\n",
      " 0. 0. 0. 1. 0. 0. 1. 0. 0. 1. 0. 1. 1. 0. 1. 1. 1. 1. 0. 0. 0. 0. 0. 0.\n",
      " 1. 0. 0. 0. 1. 0. 0. 1. 0. 1. 0. 1. 0. 0. 1. 0. 0. 0. 0. 0. 1. 1. 1. 0.\n",
      " 1. 1. 0. 0. 1. 0. 1. 1. 0. 0. 1. 0. 0. 0. 0. 1. 0. 0. 0. 0. 0. 1. 0. 0.\n",
      " 0. 0. 0. 0. 0.]\n"
     ]
    }
   ],
   "source": [
    "print('_________________________________________PositiveDesc_________________\\n')\n",
    "print(output.loc[0,'PositiveDesc'])\n",
    "print('_________________________________________NegativeDesc_________________\\n')\n",
    "print(output.loc[0,'NegativeDesc'])"
   ]
  },
  {
   "cell_type": "code",
   "execution_count": null,
   "metadata": {},
   "outputs": [],
   "source": []
  }
 ],
 "metadata": {
  "kernelspec": {
   "display_name": "Python 3",
   "language": "python",
   "name": "python3"
  },
  "language_info": {
   "codemirror_mode": {
    "name": "ipython",
    "version": 3
   },
   "file_extension": ".py",
   "mimetype": "text/x-python",
   "name": "python",
   "nbconvert_exporter": "python",
   "pygments_lexer": "ipython3",
   "version": "3.7.9"
  }
 },
 "nbformat": 4,
 "nbformat_minor": 4
}
